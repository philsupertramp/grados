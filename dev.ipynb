{
 "cells": [
  {
   "cell_type": "code",
   "execution_count": 1,
   "id": "37f666c3-dd6e-42d8-9ee2-7e987961f8e1",
   "metadata": {},
   "outputs": [],
   "source": [
    "import math\n",
    "import numpy as np\n",
    "import matplotlib.pyplot as plt\n",
    "%matplotlib inline"
   ]
  },
  {
   "cell_type": "code",
   "execution_count": 2,
   "id": "90f0590e-4cfe-4dff-9b61-35575d5737e5",
   "metadata": {},
   "outputs": [],
   "source": [
    "def f(x):\n",
    "    return 3*x**2 - 4*x + 5"
   ]
  },
  {
   "cell_type": "code",
   "execution_count": 3,
   "id": "188e106f-f2d4-452b-beef-bba6313fd5a5",
   "metadata": {},
   "outputs": [
    {
     "data": {
      "text/plain": [
       "20.0"
      ]
     },
     "execution_count": 3,
     "metadata": {},
     "output_type": "execute_result"
    }
   ],
   "source": [
    "f(3.0)"
   ]
  },
  {
   "cell_type": "code",
   "execution_count": 4,
   "id": "5a92ddd2-d014-4686-9d7c-e09774fa4210",
   "metadata": {},
   "outputs": [
    {
     "data": {
      "text/plain": [
       "[<matplotlib.lines.Line2D at 0x7f9843793550>]"
      ]
     },
     "execution_count": 4,
     "metadata": {},
     "output_type": "execute_result"
    },
    {
     "data": {
      "image/png": "[encoded data removed]",
      "text/plain": [
       "<Figure size 640x480 with 1 Axes>"
      ]
     },
     "metadata": {},
     "output_type": "display_data"
    }
   ],
   "source": [
    "xs = np.arange(-5, 5, 0.25)\n",
    "ys = f(xs)\n",
    "plt.plot(xs, ys)"
   ]
  },
  {
   "cell_type": "code",
   "execution_count": 5,
   "id": "ff9c8b0b-8102-444b-82aa-6cb8ec5f5c5e",
   "metadata": {},
   "outputs": [
    {
     "data": {
      "text/plain": [
       "-22.00000039920269"
      ]
     },
     "execution_count": 5,
     "metadata": {},
     "output_type": "execute_result"
    }
   ],
   "source": [
    "h = 0.00000001\n",
    "x = -3.0\n",
    "(f(x+h) - f(x))/h"
   ]
  },
  {
   "cell_type": "code",
   "execution_count": 6,
   "id": "2f398170-5e4e-461d-8bf6-38f41d61acb1",
   "metadata": {},
   "outputs": [
    {
     "name": "stdout",
     "output_type": "stream",
     "text": [
      "4.0\n"
     ]
    }
   ],
   "source": [
    "a = 2.0\n",
    "b = -3.0\n",
    "c = 10.0\n",
    "d = a*b+c\n",
    "print(d)"
   ]
  },
  {
   "cell_type": "code",
   "execution_count": 7,
   "id": "5f80c7eb-042c-4e49-80cb-65aab70df9eb",
   "metadata": {},
   "outputs": [
    {
     "name": "stdout",
     "output_type": "stream",
     "text": [
      "d1 4.0\n",
      "d2 4.0001\n",
      "slope 0.9999999999976694\n"
     ]
    }
   ],
   "source": [
    "h = 0.0001\n",
    "\n",
    "a = 2.0\n",
    "b = -3.0\n",
    "c = 10.0\n",
    "\n",
    "d1 = a*b+c\n",
    "c += h\n",
    "d2 = a*b+c\n",
    "\n",
    "print('d1', d1)\n",
    "print('d2', d2)\n",
    "print('slope', (d2-d1)/h)"
   ]
  },
  {
   "cell_type": "code",
   "execution_count": 203,
   "id": "443fcbb1-2d23-4ebc-b191-fa73c7f51f8c",
   "metadata": {},
   "outputs": [],
   "source": [
    "def cast_other_value(fun):\n",
    "    def inner(self, other):\n",
    "        other = other if isinstance(other, Value) else Value(other)\n",
    "        return fun(self, other)\n",
    "    return inner\n",
    "\n",
    "\n",
    "class Value:\n",
    "    def __init__(self, data, _children = (), _op='', label=''):\n",
    "        self.data = data\n",
    "        self.grad = 0.0\n",
    "        self._backward = lambda: None\n",
    "        self._prev = set(_children)\n",
    "        self._op = _op\n",
    "        self.label = label\n",
    "\n",
    "    def __repr__(self):\n",
    "        return f\"Value(data={self.data})\"\n",
    "\n",
    "    @cast_other_value\n",
    "    def __add__(self, other):\n",
    "        out = Value(self.data + other.data, (self, other), '+')\n",
    "        def _backward():\n",
    "            self.grad += 1.0 * out.grad\n",
    "            other.grad += 1.0 * out.grad\n",
    "        \n",
    "        out._backward = _backward\n",
    "        return out\n",
    "\n",
    "    @cast_other_value\n",
    "    def __mul__(self, other):\n",
    "        out = Value(self.data * other.data, (self, other), '*')\n",
    "        def _backward():\n",
    "            self.grad += other.data * out.grad\n",
    "            other.grad += self.data * out.grad\n",
    "\n",
    "        out._backward = _backward\n",
    "        return out\n",
    "\n",
    "    def __radd__(self, other):\n",
    "        return self + other\n",
    "\n",
    "    def __rmul__(self, other):\n",
    "        return self * other\n",
    "\n",
    "    def __neg__(self):\n",
    "        return self * -1.0\n",
    "\n",
    "    def __sub__(self, other):\n",
    "        return self + (-1. * other)\n",
    "\n",
    "    def __pow__(self, other):\n",
    "        assert isinstance(other, (int, float)), f'Unsupported data type {type(other)}'\n",
    "        out = Value(self.data**other, (self,), f'**{other}')\n",
    "        def _backward():\n",
    "            self.grad += other * self.data ** (other - 1.) * out.grad\n",
    "        out._backward = _backward\n",
    "        return out\n",
    "\n",
    "    def __truediv__(self, other):\n",
    "        return self * other**-1\n",
    "\n",
    "    def exp(self):\n",
    "        x = self.data\n",
    "        out = Value(math.exp(x), (self,), 'exp')\n",
    "        def _backward():\n",
    "            self.grad += out.data * out.grad\n",
    "\n",
    "        out._backward = _backward\n",
    "        return out\n",
    "\n",
    "    def tanh(self):\n",
    "        x = self.data\n",
    "        t = (math.exp(2*x) - 1)/(math.exp(2*x)+1)\n",
    "        out = Value(t, (self,), 'tanh')\n",
    "        def _backward():\n",
    "            self.grad += (1.0 - t**2) * out.grad\n",
    "        out._backward = _backward\n",
    "        return out\n",
    "\n",
    "    def relu(self):\n",
    "        out = Value(0 if self.data < 0 else self.data, (self,), 'ReLU')\n",
    "        def _backward():\n",
    "            self.grad += (out.data > 0) * out.grad\n",
    "        out._backward = _backward\n",
    "        return out\n",
    "\n",
    "    def backward(self):\n",
    "        topo = []\n",
    "        visited = set()\n",
    "        def build_topo(v):\n",
    "            if v not in visited:\n",
    "                visited.add(v)\n",
    "                for c in v._prev:\n",
    "                    build_topo(c)\n",
    "                topo.append(v)\n",
    "        build_topo(self)\n",
    "\n",
    "        self.grad = 1.0\n",
    "        for node in reversed(topo):\n",
    "            node._backward()"
   ]
  },
  {
   "cell_type": "code",
   "execution_count": 204,
   "id": "29b2bebb-b77a-4fae-bf6b-c4cfcd591751",
   "metadata": {},
   "outputs": [
    {
     "data": {
      "text/plain": [
       "Value(data=0.5)"
      ]
     },
     "execution_count": 204,
     "metadata": {},
     "output_type": "execute_result"
    }
   ],
   "source": [
    "Value(2.0) / Value(4.0)"
   ]
  },
  {
   "cell_type": "code",
   "execution_count": 205,
   "id": "8710b0f8-8909-473f-b6dd-857ecd78a726",
   "metadata": {},
   "outputs": [
    {
     "data": {
      "text/plain": [
       "Value(data=16.0)"
      ]
     },
     "execution_count": 205,
     "metadata": {},
     "output_type": "execute_result"
    }
   ],
   "source": [
    "Value(2.0) ** 4"
   ]
  },
  {
   "cell_type": "code",
   "execution_count": 56,
   "id": "684e1410-af82-4808-903b-d77f2f19ef72",
   "metadata": {},
   "outputs": [
    {
     "name": "stdout",
     "output_type": "stream",
     "text": [
      "Value(data=0.7071067811865476)\n"
     ]
    }
   ],
   "source": [
    "x1 = Value(2.0)\n",
    "x2 = Value(0.0)\n",
    "\n",
    "w1 = Value(-3.0)\n",
    "w2 = Value(1.0)\n",
    "\n",
    "b = Value(6.8813735870195432)\n",
    "\n",
    "x1w1 = x1*w1\n",
    "x2w2 = x2*w2\n",
    "\n",
    "x1w1x2w2 = x1w1 + x2w2\n",
    "n = x1w1x2w2 + b\n",
    "# --------\n",
    "e = (2*n).exp()\n",
    "o = (e - 1)/(e + 1)\n",
    "# --------\n",
    "# or\n",
    "# o = n.tanh()\n",
    "print(o)"
   ]
  },
  {
   "cell_type": "code",
   "execution_count": 54,
   "id": "f53e6a71-7b27-4b2e-b0eb-9879c815fa4e",
   "metadata": {},
   "outputs": [],
   "source": [
    "o.backward()"
   ]
  },
  {
   "cell_type": "code",
   "execution_count": 55,
   "id": "af1705f1-52f5-4162-876f-12a9a9cb919f",
   "metadata": {},
   "outputs": [
    {
     "name": "stdout",
     "output_type": "stream",
     "text": [
      "[0.0, 0.5, -1.5, 1.0] [0.5, 0.5] [0.5, 0.5] [0.5] [1.0]\n"
     ]
    }
   ],
   "source": [
    "print(\n",
    "    [w2.grad, x2.grad, x1.grad, w1.grad],\n",
    "    [x2w2.grad, x1w1.grad],\n",
    "    [x1w1x2w2.grad, b.grad],\n",
    "    [n.grad],\n",
    "    [o.grad],\n",
    ")"
   ]
  },
  {
   "cell_type": "code",
   "execution_count": 34,
   "id": "579a5b27-dc2a-4964-bdf7-3baac8671d95",
   "metadata": {},
   "outputs": [
    {
     "name": "stdout",
     "output_type": "stream",
     "text": [
      "[2.0] [1.0]\n"
     ]
    }
   ],
   "source": [
    "a = Value(3.0)\n",
    "b = a + a\n",
    "b.backward()\n",
    "print(\n",
    "    [a.grad],\n",
    "    [b.grad]\n",
    ")"
   ]
  },
  {
   "cell_type": "code",
   "execution_count": 206,
   "id": "d80d41c3-f595-4a3e-8699-6f9b71fa4106",
   "metadata": {},
   "outputs": [],
   "source": [
    "import random\n",
    "import itertools\n",
    "random.seed(42)\n",
    "\n",
    "\n",
    "class Module:\n",
    "    def zero_grad(self):\n",
    "        for p in self.parameters():\n",
    "            p.grad = 0.0\n",
    "\n",
    "    def parameters(self):\n",
    "        return []\n",
    "\n",
    "class Neuron(Module):\n",
    "    def __init__(self, number_inputs):\n",
    "        self.w = [Value(random.uniform(-1,1)) for _ in range(number_inputs)]\n",
    "        self.b = Value(random.uniform(-1,1))\n",
    "\n",
    "    def __call__(self, x):\n",
    "        act = sum([wi*xi for wi, xi in zip(self.w, x)], self.b)\n",
    "        out = act.tanh()\n",
    "        return out\n",
    "\n",
    "    def parameters(self):\n",
    "        return self.w + [self.b]\n",
    "\n",
    "class Layer(Module):\n",
    "    def __init__(self, number_input, number_outputs):\n",
    "        self.neurons = [Neuron(number_input) for _ in range(number_outputs)]\n",
    "\n",
    "    def __call__(self, x):\n",
    "        outs = [n(x) for n in self.neurons]\n",
    "        return outs[0] if len(outs) == 1 else outs\n",
    "\n",
    "    def parameters(self):\n",
    "        return list(itertools.chain.from_iterable([n.parameters() for n in self.neurons]))\n",
    "\n",
    "class MLP(Module):\n",
    "    def __init__(self, number_inputs, number_outputs):\n",
    "        sz = [number_inputs] + number_outputs\n",
    "        self.layers = [Layer(sz[i], sz[i+1]) for i in range(len(number_outputs))]\n",
    "\n",
    "    def __call__(self, x):\n",
    "        for l in self.layers:\n",
    "            x = l(x)\n",
    "        return x\n",
    "\n",
    "    def parameters(self):\n",
    "        return list(itertools.chain.from_iterable([l.parameters() for l in self.layers]))"
   ]
  },
  {
   "cell_type": "code",
   "execution_count": 102,
   "id": "74bb0751-e846-456c-936b-c00fe348fee0",
   "metadata": {},
   "outputs": [
    {
     "data": {
      "text/plain": [
       "Value(data=0.6994093620224068)"
      ]
     },
     "execution_count": 102,
     "metadata": {},
     "output_type": "execute_result"
    }
   ],
   "source": [
    "x = [2.0, 3.0, -1]\n",
    "n = MLP(3, [4,4,1])\n",
    "n(x)"
   ]
  },
  {
   "cell_type": "code",
   "execution_count": 103,
   "id": "4f160f81-8aa4-4eb3-a7d3-23d4990c2f82",
   "metadata": {},
   "outputs": [
    {
     "data": {
      "text/plain": [
       "[Value(data=0.2788535969157675),\n",
       " Value(data=-0.9499784895546661),\n",
       " Value(data=-0.4499413632617615),\n",
       " Value(data=-0.5535785237023545),\n",
       " Value(data=0.4729424283280248),\n",
       " Value(data=0.3533989748458226),\n",
       " Value(data=0.7843591354096908),\n",
       " Value(data=-0.8261223347411677),\n",
       " Value(data=-0.15615636062945915),\n",
       " Value(data=-0.9404055611238593),\n",
       " Value(data=-0.5627240503927933),\n",
       " Value(data=0.010710576206724776),\n",
       " Value(data=-0.9469280606322728),\n",
       " Value(data=-0.602324698626703),\n",
       " Value(data=0.2997688755590464),\n",
       " Value(data=0.08988296120643335),\n",
       " Value(data=-0.5591187559186066),\n",
       " Value(data=0.17853136775181744),\n",
       " Value(data=0.6188609133556533),\n",
       " Value(data=-0.987002480643878),\n",
       " Value(data=0.6116385036656158),\n",
       " Value(data=0.3962787899764537),\n",
       " Value(data=-0.31949896696401625),\n",
       " Value(data=-0.6890410003764369),\n",
       " Value(data=0.9144261444135624),\n",
       " Value(data=-0.32681090977474647),\n",
       " Value(data=-0.8145083132397042),\n",
       " Value(data=-0.806567246333072),\n",
       " Value(data=0.6949887326949196),\n",
       " Value(data=0.20745206273378214),\n",
       " Value(data=0.6142565465487604),\n",
       " Value(data=0.45946357338763577),\n",
       " Value(data=0.07245618290940148),\n",
       " Value(data=0.9462315279587412),\n",
       " Value(data=-0.24293124558329304),\n",
       " Value(data=0.104081262546454),\n",
       " Value(data=0.6588093285059897),\n",
       " Value(data=0.2370395047284921),\n",
       " Value(data=0.7234138006215545),\n",
       " Value(data=0.15470429051352408),\n",
       " Value(data=0.40914367242984695)]"
      ]
     },
     "execution_count": 103,
     "metadata": {},
     "output_type": "execute_result"
    }
   ],
   "source": [
    "n.parameters()"
   ]
  },
  {
   "cell_type": "code",
   "execution_count": 104,
   "id": "7a11c286-4605-4271-a3e8-c60f90f70935",
   "metadata": {},
   "outputs": [
    {
     "data": {
      "text/plain": [
       "[Value(data=0.6994093620224068),\n",
       " Value(data=0.5026295816615511),\n",
       " Value(data=0.6931545900944501),\n",
       " Value(data=0.8755224728708613)]"
      ]
     },
     "execution_count": 104,
     "metadata": {},
     "output_type": "execute_result"
    }
   ],
   "source": [
    "xs = [\n",
    "    [2,3,-1],\n",
    "    [3,-1,0.5],\n",
    "    [.5,1,1],\n",
    "    [1,1,-1]\n",
    "]\n",
    "ys = [1,-1, -1, 1]\n",
    "ypred = [n(x) for x in xs]\n",
    "ypred"
   ]
  },
  {
   "cell_type": "code",
   "execution_count": 105,
   "id": "88d96b61-8105-4b9a-a03c-09a46cbbf651",
   "metadata": {},
   "outputs": [
    {
     "data": {
      "text/plain": [
       "[Value(data=0.0903547316397765),\n",
       " Value(data=2.257895659684368),\n",
       " Value(data=2.8667724659579052),\n",
       " Value(data=0.015494654760185468)]"
      ]
     },
     "execution_count": 105,
     "metadata": {},
     "output_type": "execute_result"
    }
   ],
   "source": [
    "[(yout - ygt) ** 2 for ygt, yout in zip(ys, ypred)]"
   ]
  },
  {
   "cell_type": "code",
   "execution_count": 106,
   "id": "d6ee9a78-f136-4b1f-a930-1290bd3f3b10",
   "metadata": {},
   "outputs": [
    {
     "data": {
      "text/plain": [
       "Value(data=5.230517512042234)"
      ]
     },
     "execution_count": 106,
     "metadata": {},
     "output_type": "execute_result"
    }
   ],
   "source": [
    "loss = sum((yout - ygt) ** 2 for ygt, yout in zip(ys, ypred))\n",
    "loss"
   ]
  },
  {
   "cell_type": "code",
   "execution_count": 107,
   "id": "6d5fb760-1127-40bf-a18c-296b93b9cca4",
   "metadata": {},
   "outputs": [],
   "source": [
    "loss.backward()"
   ]
  },
  {
   "cell_type": "code",
   "execution_count": 109,
   "id": "d06bd31a-0c97-4047-83e2-84624ceb7e6e",
   "metadata": {},
   "outputs": [
    {
     "data": {
      "text/plain": [
       "(Value(data=0.2788535969157675), -1.3722609374247596, 0.2788535969157675)"
      ]
     },
     "execution_count": 109,
     "metadata": {},
     "output_type": "execute_result"
    }
   ],
   "source": [
    "n.layers[0].neurons[0].w[0], n.layers[0].neurons[0].w[0].grad, n.layers[0].neurons[0].w[0].data"
   ]
  },
  {
   "cell_type": "code",
   "execution_count": 110,
   "id": "8d60ce98-9a05-48d5-9779-c66e0cc0db45",
   "metadata": {},
   "outputs": [],
   "source": [
    "learning_rate = 0.01\n",
    "\n",
    "for p in n.parameters():\n",
    "    p.data += -learning_rate * p.grad"
   ]
  },
  {
   "cell_type": "code",
   "execution_count": 111,
   "id": "ca298ee3-39cd-41b4-8b2b-be27cc6a2819",
   "metadata": {},
   "outputs": [
    {
     "data": {
      "text/plain": [
       "(Value(data=0.2925762062900151), -1.3722609374247596, 0.2925762062900151)"
      ]
     },
     "execution_count": 111,
     "metadata": {},
     "output_type": "execute_result"
    }
   ],
   "source": [
    "n.layers[0].neurons[0].w[0], n.layers[0].neurons[0].w[0].grad, n.layers[0].neurons[0].w[0].data"
   ]
  },
  {
   "cell_type": "code",
   "execution_count": 216,
   "id": "a269a7c4-3a76-4395-bf04-6c510f688c4d",
   "metadata": {},
   "outputs": [],
   "source": [
    "n = MLP(3, [4,4,1])\n",
    "EPOCHS = 100\n",
    "learning_rate = 0.01"
   ]
  },
  {
   "cell_type": "markdown",
   "id": "1ed7f363-10fe-4897-8c7f-c5df9445ca55",
   "metadata": {},
   "source": [
    "# SGD"
   ]
  },
  {
   "cell_type": "code",
   "execution_count": 258,
   "id": "699fe895-d954-4d21-a718-4d581ff5e176",
   "metadata": {
    "scrolled": true
   },
   "outputs": [
    {
     "name": "stdout",
     "output_type": "stream",
     "text": [
      "EPOCH 0: loss = 7.899129370534339e-06\n",
      "EPOCH 1: loss = 7.895321820902387e-06\n",
      "EPOCH 2: loss = 7.89155558011175e-06\n",
      "EPOCH 3: loss = 7.887830535332966e-06\n",
      "EPOCH 4: loss = 7.88414657512464e-06\n",
      "EPOCH 5: loss = 7.880503589423223e-06\n",
      "EPOCH 6: loss = 7.876901469536988e-06\n",
      "EPOCH 7: loss = 7.873340108134781e-06\n",
      "EPOCH 8: loss = 7.869819399240007e-06\n",
      "EPOCH 9: loss = 7.866339238222578e-06\n",
      "EPOCH 10: loss = 7.86289952178975e-06\n",
      "EPOCH 11: loss = 7.859500147979886e-06\n",
      "EPOCH 12: loss = 7.856141016152694e-06\n",
      "EPOCH 13: loss = 7.85282202698463e-06\n",
      "EPOCH 14: loss = 7.849543082457019e-06\n",
      "EPOCH 15: loss = 7.846304085853122e-06\n",
      "EPOCH 16: loss = 7.843104941749163e-06\n",
      "EPOCH 17: loss = 7.839945556006856e-06\n",
      "EPOCH 18: loss = 7.836825835765608e-06\n",
      "EPOCH 19: loss = 7.833745689437904e-06\n",
      "EPOCH 20: loss = 7.830705026701275e-06\n",
      "EPOCH 21: loss = 7.827703758489443e-06\n",
      "EPOCH 22: loss = 7.8247417969898e-06\n",
      "EPOCH 23: loss = 7.821819055634234e-06\n",
      "EPOCH 24: loss = 7.81893544909419e-06\n",
      "EPOCH 25: loss = 7.816090893272043e-06\n",
      "EPOCH 26: loss = 7.813285305296545e-06\n",
      "EPOCH 27: loss = 7.810518603518034e-06\n",
      "EPOCH 28: loss = 7.807790707498978e-06\n",
      "EPOCH 29: loss = 7.805101538012121e-06\n",
      "EPOCH 30: loss = 7.802451017031364e-06\n",
      "EPOCH 31: loss = 7.799839067726758e-06\n",
      "EPOCH 32: loss = 7.797265614459914e-06\n",
      "EPOCH 33: loss = 7.794730582778955e-06\n",
      "EPOCH 34: loss = 7.792233899411166e-06\n",
      "EPOCH 35: loss = 7.789775492258443e-06\n",
      "EPOCH 36: loss = 7.787355290392648e-06\n",
      "EPOCH 37: loss = 7.784973224049803e-06\n",
      "EPOCH 38: loss = 7.782629224625008e-06\n",
      "EPOCH 39: loss = 7.780323224668595e-06\n",
      "EPOCH 40: loss = 7.77805515787973e-06\n",
      "EPOCH 41: loss = 7.77582495910165e-06\n",
      "EPOCH 42: loss = 7.773632564319245e-06\n",
      "EPOCH 43: loss = 7.771477910650599e-06\n",
      "EPOCH 44: loss = 7.76936093634566e-06\n",
      "EPOCH 45: loss = 7.767281580782068e-06\n",
      "EPOCH 46: loss = 7.765239784457815e-06\n",
      "EPOCH 47: loss = 7.763235488987842e-06\n",
      "EPOCH 48: loss = 7.761268637103545e-06\n",
      "EPOCH 49: loss = 7.759339172643321e-06\n",
      "EPOCH 50: loss = 7.757447040551643e-06\n",
      "EPOCH 51: loss = 7.755592186875484e-06\n",
      "EPOCH 52: loss = 7.753774558758356e-06\n",
      "EPOCH 53: loss = 7.75199410443825e-06\n",
      "EPOCH 54: loss = 7.750250773242108e-06\n",
      "EPOCH 55: loss = 7.748544515585898e-06\n",
      "EPOCH 56: loss = 7.746875282966601e-06\n",
      "EPOCH 57: loss = 7.745243027960779e-06\n",
      "EPOCH 58: loss = 7.74364770422303e-06\n",
      "EPOCH 59: loss = 7.74208926647981e-06\n",
      "EPOCH 60: loss = 7.740567670526685e-06\n",
      "EPOCH 61: loss = 7.73908287322738e-06\n",
      "EPOCH 62: loss = 7.737634832507723e-06\n",
      "EPOCH 63: loss = 7.736223507355473e-06\n",
      "EPOCH 64: loss = 7.734848857814539e-06\n",
      "EPOCH 65: loss = 7.733510844985225e-06\n",
      "EPOCH 66: loss = 7.732209431018809e-06\n",
      "EPOCH 67: loss = 7.730944579117552e-06\n",
      "EPOCH 68: loss = 7.72971625352908e-06\n",
      "EPOCH 69: loss = 7.728524419545407e-06\n",
      "EPOCH 70: loss = 7.727369043501701e-06\n",
      "EPOCH 71: loss = 7.726250092771577e-06\n",
      "EPOCH 72: loss = 7.725167535766859e-06\n",
      "EPOCH 73: loss = 7.724121341933235e-06\n",
      "EPOCH 74: loss = 7.723111481749884e-06\n",
      "EPOCH 75: loss = 7.72213792672748e-06\n",
      "EPOCH 76: loss = 7.721200649403443e-06\n",
      "EPOCH 77: loss = 7.720299623345055e-06\n",
      "EPOCH 78: loss = 7.719434823142267e-06\n",
      "EPOCH 79: loss = 7.718606224409569e-06\n",
      "EPOCH 80: loss = 7.717813803782188e-06\n",
      "EPOCH 81: loss = 7.717057538915141e-06\n",
      "EPOCH 82: loss = 7.71633740848271e-06\n",
      "EPOCH 83: loss = 7.715653392175498e-06\n",
      "EPOCH 84: loss = 7.715005470700251e-06\n",
      "EPOCH 85: loss = 7.714393625776076e-06\n",
      "EPOCH 86: loss = 7.71381784013644e-06\n",
      "EPOCH 87: loss = 7.713278097526228e-06\n",
      "EPOCH 88: loss = 7.712774382699947e-06\n",
      "EPOCH 89: loss = 7.712306681421896e-06\n",
      "EPOCH 90: loss = 7.711874980464864e-06\n",
      "EPOCH 91: loss = 7.71147926761054e-06\n",
      "EPOCH 92: loss = 7.711119531643526e-06\n",
      "EPOCH 93: loss = 7.71079576235831e-06\n",
      "EPOCH 94: loss = 7.710507950551635e-06\n",
      "EPOCH 95: loss = 7.710256088025698e-06\n",
      "EPOCH 96: loss = 7.710040167587007e-06\n",
      "EPOCH 97: loss = 7.709860183045705e-06\n",
      "EPOCH 98: loss = 7.709716129212774e-06\n",
      "EPOCH 99: loss = 7.709608001903602e-06\n"
     ]
    }
   ],
   "source": [
    "for epoch in range(EPOCHS):\n",
    "    # forward pass\n",
    "    ypred = [n(x) for x in xs]\n",
    "    loss = sum((yout - ygt) ** 2 for ygt, yout in zip(ys, ypred))\n",
    "\n",
    "    # backward pass\n",
    "    n.zero_grad()\n",
    "    loss.backward()\n",
    "\n",
    "    # update\n",
    "    lr = 1.0 - (1.0 - learning_rate)*epoch/EPOCHS\n",
    "    for p in n.parameters():\n",
    "        p.data += -lr * p.grad\n",
    "\n",
    "    print(f'EPOCH {epoch}: loss = {loss.data}')"
   ]
  },
  {
   "cell_type": "code",
   "execution_count": 259,
   "id": "30ef5b8d-7d11-48b2-aa5a-cf1b8399d212",
   "metadata": {},
   "outputs": [
    {
     "data": {
      "text/plain": [
       "[Value(data=0.9983833852865436),\n",
       " Value(data=-0.9988006199181774),\n",
       " Value(data=-0.9998223163924643),\n",
       " Value(data=0.9980957918650755)]"
      ]
     },
     "execution_count": 259,
     "metadata": {},
     "output_type": "execute_result"
    }
   ],
   "source": [
    "[n(x) for x in xs]"
   ]
  },
  {
   "cell_type": "code",
   "execution_count": null,
   "id": "61120bbc-efe3-431f-8e46-e235c4e62aa2",
   "metadata": {},
   "outputs": [],
   "source": []
  }
 ],
 "metadata": {
  "kernelspec": {
   "display_name": "Python 3 (ipykernel)",
   "language": "python",
   "name": "python3"
  },
  "language_info": {
   "codemirror_mode": {
    "name": "ipython",
    "version": 3
   },
   "file_extension": ".py",
   "mimetype": "text/x-python",
   "name": "python",
   "nbconvert_exporter": "python",
   "pygments_lexer": "ipython3",
   "version": "3.11.5"
  }
 },
 "nbformat": 4,
 "nbformat_minor": 5
}
